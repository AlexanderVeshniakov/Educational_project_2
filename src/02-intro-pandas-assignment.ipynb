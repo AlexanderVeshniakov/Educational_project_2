{
 "cells": [
  {
   "attachments": {},
   "cell_type": "markdown",
   "metadata": {},
   "source": [
    "# Загрузка данных"
   ]
  },
  {
   "cell_type": "code",
   "execution_count": null,
   "metadata": {},
   "outputs": [],
   "source": [
    "import pandas as pd\n",
    "df = pd.read_csv('../datasets/kaggle_survey_2022_responses.csv')\n",
    "name2question = df.iloc[0]\n",
    "df.head (5)\n"
   ]
  },
  {
   "attachments": {},
   "cell_type": "markdown",
   "metadata": {},
   "source": [
    "# 1\n",
    "Узнай самый часто встречаемый возраст респондентов"
   ]
  },
  {
   "cell_type": "code",
   "execution_count": null,
   "metadata": {},
   "outputs": [],
   "source": [
    "task1 = df[['Q2']] # Присваиваем переменной значение столбца Q2\n",
    "task1 = task1.drop(0) # Удаляем строку с вопросом\n",
    "task1 = task1['Q2'].value_counts() # подсчитываем частоту встречаемости каждого возраста в столбце Q2\n",
    "age = task1.idxmax() # Находим возрастную группу\n",
    "count = task1.max() # Находим количество вхождений\n",
    "f'Возрастная группа {age}, количество повторений {count}'"
   ]
  },
  {
   "cell_type": "markdown",
   "metadata": {},
   "source": [
    "Cамый часто встречаемый возраст 18-21, количество повторений 4559."
   ]
  },
  {
   "attachments": {},
   "cell_type": "markdown",
   "metadata": {},
   "source": [
    "# 2\n",
    "Посчитай долю женщин среди русских участников опроса, которые уже не студенты."
   ]
  },
  {
   "cell_type": "code",
   "execution_count": null,
   "metadata": {},
   "outputs": [],
   "source": [
    "total = df.query('Q4 == \"Russia\" and Q5 == \"No\"')\n",
    "total = total[['Q3', 'Q4', 'Q5']]\n",
    "total['Q3'].value_counts(dropna = False)\n",
    "woman = 0\n",
    "man = 0\n",
    "for index, value in total[\"Q3\"].items():\n",
    "    if value == 'Woman':\n",
    "        woman += 1\n",
    "    elif value == 'Man':\n",
    "        man += 1\n",
    "task2 = round (woman / (man + woman), 2)\n",
    "f'Доля женщин = {task2}'"
   ]
  },
  {
   "cell_type": "markdown",
   "metadata": {},
   "source": [
    "Доля женщин = 0.24"
   ]
  },
  {
   "attachments": {},
   "cell_type": "markdown",
   "metadata": {},
   "source": [
    "# 3\n",
    "Найди среднее время заполнения опроса в **минутах**."
   ]
  },
  {
   "cell_type": "code",
   "execution_count": null,
   "metadata": {},
   "outputs": [],
   "source": [
    "time = df [['Duration (in seconds)']].drop(0)\n",
    "time ['Duration (in seconds)'] = time['Duration (in seconds)'].astype(int)\n",
    "time = time ['Duration (in seconds)'].mean()\n",
    "task3 = round ((time / 60), 2)\n",
    "f'Среднее время заполнения опроса {task3} минут.'"
   ]
  },
  {
   "cell_type": "markdown",
   "metadata": {},
   "source": [
    "Среднее время заполнения опроса 168.17 минут."
   ]
  },
  {
   "attachments": {},
   "cell_type": "markdown",
   "metadata": {},
   "source": [
    "# 4\n",
    "Выведи топ-3 образовательных курса, которые указали респонденты."
   ]
  },
  {
   "cell_type": "code",
   "execution_count": null,
   "metadata": {},
   "outputs": [],
   "source": [
    "total = {}\n",
    "q6_columns = [col for col in df.columns if col.startswith('Q6')] # Создаем список по столбцам Q6\n",
    "courses = df[q6_columns] # Присваиваем переменной датафрейм по списку Q6\n",
    "courses = courses.drop(0) # Удаляем строку с вопросом\n",
    "courses = courses[q6_columns].melt(var_name='TOP', value_vars=q6_columns) # Объединяем столбцы в одну таблицу\n",
    "task4 = courses['value'].value_counts().iloc[:3] # Выводим 3 топ курса\n",
    "task4\n"
   ]
  },
  {
   "cell_type": "markdown",
   "metadata": {},
   "source": [
    "- Coursera                                                 9699\n",
    "- University Courses (resulting in a university degree)    6780\n",
    "- Kaggle Learn Courses                                     6628"
   ]
  },
  {
   "attachments": {},
   "cell_type": "markdown",
   "metadata": {},
   "source": [
    "# 5\n",
    "Узнай топ-5 языков программирования, которые регулярно используют Data Scientists в своей работе"
   ]
  },
  {
   "cell_type": "code",
   "execution_count": null,
   "metadata": {},
   "outputs": [],
   "source": [
    "# Присваиваем вопрос переменной\n",
    "question = 'What programming languages do you use on a regular basis?'\n",
    "# str.contains() для фильтрации столбцов, содержащих текст вопроса question\n",
    "# Метод возвращает логический массив, который используется для фильтрации столбцов в объекте df.columns\n",
    "filtered_cols = df.columns[df.iloc[0].str.contains(question)]\n",
    "# Метод get_loc() объекта df.columns, который находит индекс столбца, содержащего текст вопроса. \n",
    "col_idx = df.columns.get_loc(filtered_cols[0])\n",
    "# Так определил с какого столбца начинаются вопросы про язык программирования Q12_1\n",
    "(df.iloc[:, col_idx])\n",
    "# df.loc - это метод для доступа и изменения элементов в объекте DataFrame. Он используется для выбора данных на основе меток строк или столбцов.\n",
    "language_DS = df.loc[:, ['Q23'] + ['Q12_' + str(i) for i in range(1, 16)]]\n",
    "# Удаляем строку с вопросом\n",
    "language_DS = language_DS.drop(0)\n",
    "# Фильтруем по названию специальности\n",
    "language_DS = language_DS.query( 'Q23 == \"Data Scientist\"')\n",
    "# Создаем список по столбцам Q12\n",
    "q12_columns = [col for col in language_DS.columns if col.startswith('Q12')]\n",
    "# Объединяем столбцы в одну таблицу\n",
    "total_lg_DS = language_DS.melt(id_vars=['Q23'], value_vars = q12_columns, var_name='column', value_name='language')\n",
    "# Удаляю столбец с именами столбцов\n",
    "total_lg_DS = total_lg_DS.drop(columns=['column'])\n",
    "# Выводим TOP 5 языков программирования\n",
    "task5 = total_lg_DS['language'].value_counts().iloc[:5]\n",
    "task5\n"
   ]
  },
  {
   "cell_type": "markdown",
   "metadata": {},
   "source": [
    "- Python        1808\n",
    "- SQL           1140\n",
    "- R              530\n",
    "- Bash           248\n",
    "- Javascript     187"
   ]
  },
  {
   "attachments": {},
   "cell_type": "markdown",
   "metadata": {},
   "source": [
    "# 6\n",
    "Узнай средний доход среди 'Data Scientist' специалистов и средний доход среди 'Machine Learning/ MLops Engineer' \\\n",
    "Т.к. в колонке Q29 указан промежуток, то возьми среднее значение из промежутка. \n",
    "Средние доход **округли до целого.**"
   ]
  },
  {
   "cell_type": "code",
   "execution_count": null,
   "metadata": {},
   "outputs": [],
   "source": [
    "employees_mapping = {}\n",
    "q29 = df ['Q29']\n",
    "q29 = q29.drop (0)\n",
    "for index, value in q29.items():\n",
    "   if (type (value)) == str:\n",
    "      if value == '>$1,000,000':\n",
    "         range_start = 1000000\n",
    "         employees_mapping[value] = range_start\n",
    "      else:\n",
    "         range_split = value.split('-')\n",
    "         if len (range_split) == 2:\n",
    "            range_start = int(range_split[0].replace(',', '').strip('$'))\n",
    "            range_end = int(range_split[1].replace(',', ''))\n",
    "            range_mean = round((range_start + range_end) / 2)\n",
    "            employees_mapping[value] = range_mean\n",
    "\n",
    "job_and_money = df[['Q23', 'Q29']]\n",
    "job_and_money = job_and_money.drop(0)\n",
    "\n",
    "New_money = job_and_money['Q29-NEW'] = job_and_money['Q29'].map(employees_mapping)\n",
    "filter_DS = job_and_money.query( 'Q23 == \"Data Scientist\"')\n",
    "DS_money = filter_DS[['Q23','Q29-NEW']].dropna()\n",
    "task6_DS = DS_money.groupby(['Q23']).mean().sort_values('Q29-NEW', ascending=False)\n",
    "money_DS = task6_DS.iloc[0]['Q29-NEW']\n",
    "money_DS = round(money_DS)\n",
    "job_DS = task6_DS.index[0]\n",
    "\n",
    "filter_ML = job_and_money.query( 'Q23 == \"Machine Learning/ MLops Engineer\"')\n",
    "ML_money = filter_ML[['Q23','Q29-NEW']].dropna()\n",
    "task6_ML = ML_money.groupby(['Q23']).mean().sort_values('Q29-NEW', ascending=False)\n",
    "money_ML = task6_ML.iloc[0]['Q29-NEW']\n",
    "money_ML = round(money_ML)\n",
    "job_ML = task6_ML.index[0]\n",
    "\n",
    "f'Средни доход {job_DS} = {money_DS}  Средни доход {job_ML} = {money_ML}'\n"
   ]
  },
  {
   "cell_type": "markdown",
   "metadata": {},
   "source": [
    "- Средни доход Data Scientist = 70337\n",
    "- Средни доход Machine Learning/ MLops Engineer = 67438"
   ]
  }
 ],
 "metadata": {
  "kernelspec": {
   "display_name": "Python 3 (ipykernel)",
   "language": "python",
   "name": "python3"
  },
  "language_info": {
   "codemirror_mode": {
    "name": "ipython",
    "version": 3
   },
   "file_extension": ".py",
   "mimetype": "text/x-python",
   "name": "python",
   "nbconvert_exporter": "python",
   "pygments_lexer": "ipython3",
   "version": "3.10.11"
  }
 },
 "nbformat": 4,
 "nbformat_minor": 4
}
